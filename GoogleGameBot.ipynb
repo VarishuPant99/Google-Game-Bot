{
 "cells": [
  {
   "cell_type": "code",
   "execution_count": 122,
   "metadata": {},
   "outputs": [],
   "source": [
    "from PIL import ImageGrab,ImageOps\n",
    "import pyautogui\n",
    "import time\n",
    "from numpy import *"
   ]
  },
  {
   "cell_type": "code",
   "execution_count": 123,
   "metadata": {},
   "outputs": [],
   "source": [
    "#Use Paint.Net to get pixel coordinates\n",
    "\n",
    "class Coordinates():\n",
    "    replayButton=(490,510)  #coordinates of replay button \n",
    "    dino=(168,517)  #x coordinates of top right corner of the T-rex"
   ]
  },
  {
   "cell_type": "code",
   "execution_count": 124,
   "metadata": {},
   "outputs": [],
   "source": [
    "#Function to restart game\n",
    "\n",
    "def restartGame():\n",
    "    pyautogui.click(Coordinates.replayButton)"
   ]
  },
  {
   "cell_type": "code",
   "execution_count": 125,
   "metadata": {},
   "outputs": [],
   "source": [
    "#Function to make the dinosaur jump\n",
    "\n",
    "def jump():\n",
    "    pyautogui.keyDown('space')\n",
    "    print(\"Jump\")\n",
    "    pyautogui.keyUp('space')"
   ]
  },
  {
   "cell_type": "code",
   "execution_count": 126,
   "metadata": {},
   "outputs": [
    {
     "data": {
      "text/plain": [
       "2047"
      ]
     },
     "execution_count": 126,
     "metadata": {},
     "output_type": "execute_result"
    }
   ],
   "source": [
    "#Function to return grayscale sum of pixels ahead of the dino to check for trees and birds\n",
    "\n",
    "def imageGrab():\n",
    "    box=(Coordinates.dino[0]+65,Coordinates.dino[1],Coordinates.dino[0]+125,Coordinates.dino[1]+30 )\n",
    "    image=ImageGrab.grab(box)\n",
    "    grayImage=ImageOps.grayscale(image)\n",
    "    a=array(grayImage.getcolors())\n",
    "    return(a.sum())\n",
    "imageGrab()"
   ]
  },
  {
   "cell_type": "code",
   "execution_count": 127,
   "metadata": {},
   "outputs": [
    {
     "name": "stdout",
     "output_type": "stream",
     "text": [
      "Jump\n",
      "Jump\n",
      "Jump\n",
      "Jump\n",
      "Jump\n",
      "Jump\n",
      "Jump\n",
      "Jump\n",
      "Jump\n",
      "Jump\n",
      "Jump\n",
      "Jump\n",
      "Jump\n",
      "Jump\n",
      "Jump\n",
      "Jump\n",
      "Jump\n",
      "Jump\n",
      "Jump\n",
      "Jump\n",
      "Jump\n",
      "Jump\n",
      "Jump\n",
      "Jump\n",
      "Jump\n",
      "Jump\n",
      "Jump\n",
      "Jump\n",
      "Jump\n",
      "Jump\n",
      "Jump\n",
      "Jump\n",
      "Jump\n",
      "Jump\n",
      "Jump\n",
      "Jump\n",
      "Jump\n",
      "Jump\n",
      "Jump\n",
      "Jump\n",
      "Jump\n",
      "Jump\n",
      "Jump\n",
      "Jump\n",
      "Jump\n",
      "Jump\n",
      "Jump\n",
      "Jump\n",
      "Jump\n",
      "Jump\n",
      "Jump\n",
      "Jump\n",
      "Jump\n",
      "Jump\n",
      "Jump\n",
      "Jump\n",
      "Jump\n",
      "Jump\n",
      "Jump\n",
      "Jump\n",
      "Jump\n",
      "Jump\n",
      "Jump\n",
      "Jump\n",
      "Jump\n",
      "Jump\n",
      "Jump\n",
      "Jump\n",
      "Jump\n",
      "Jump\n",
      "Jump\n",
      "Jump\n",
      "Jump\n",
      "Jump\n",
      "Jump\n",
      "Jump\n",
      "Jump\n",
      "Jump\n",
      "Jump\n",
      "Jump\n",
      "Jump\n",
      "Jump\n",
      "Jump\n",
      "Jump\n",
      "Jump\n",
      "Jump\n",
      "Jump\n"
     ]
    },
    {
     "ename": "KeyboardInterrupt",
     "evalue": "",
     "output_type": "error",
     "traceback": [
      "\u001b[1;31m---------------------------------------------------------------------------\u001b[0m",
      "\u001b[1;31mKeyboardInterrupt\u001b[0m                         Traceback (most recent call last)",
      "\u001b[1;32m<ipython-input-127-c5be1f06baa8>\u001b[0m in \u001b[0;36m<module>\u001b[1;34m\u001b[0m\n\u001b[0;32m      7\u001b[0m             \u001b[0mjump\u001b[0m\u001b[1;33m(\u001b[0m\u001b[1;33m)\u001b[0m\u001b[1;33m\u001b[0m\u001b[1;33m\u001b[0m\u001b[0m\n\u001b[0;32m      8\u001b[0m             \u001b[0mtime\u001b[0m\u001b[1;33m.\u001b[0m\u001b[0msleep\u001b[0m\u001b[1;33m(\u001b[0m\u001b[1;36m0.1\u001b[0m\u001b[1;33m)\u001b[0m\u001b[1;33m\u001b[0m\u001b[1;33m\u001b[0m\u001b[0m\n\u001b[1;32m----> 9\u001b[1;33m \u001b[0mmain\u001b[0m\u001b[1;33m(\u001b[0m\u001b[1;33m)\u001b[0m\u001b[1;33m\u001b[0m\u001b[1;33m\u001b[0m\u001b[0m\n\u001b[0m",
      "\u001b[1;32m<ipython-input-127-c5be1f06baa8>\u001b[0m in \u001b[0;36mmain\u001b[1;34m()\u001b[0m\n\u001b[0;32m      5\u001b[0m     \u001b[1;32mwhile\u001b[0m \u001b[1;32mTrue\u001b[0m\u001b[1;33m:\u001b[0m\u001b[1;33m\u001b[0m\u001b[1;33m\u001b[0m\u001b[0m\n\u001b[0;32m      6\u001b[0m         \u001b[1;32mif\u001b[0m\u001b[1;33m(\u001b[0m\u001b[0mimageGrab\u001b[0m\u001b[1;33m(\u001b[0m\u001b[1;33m)\u001b[0m\u001b[1;33m!=\u001b[0m\u001b[1;36m2047\u001b[0m\u001b[1;33m)\u001b[0m\u001b[1;33m:\u001b[0m  \u001b[1;31m#1597 is the sum when there is no obstacle in front of dino\u001b[0m\u001b[1;33m\u001b[0m\u001b[1;33m\u001b[0m\u001b[0m\n\u001b[1;32m----> 7\u001b[1;33m             \u001b[0mjump\u001b[0m\u001b[1;33m(\u001b[0m\u001b[1;33m)\u001b[0m\u001b[1;33m\u001b[0m\u001b[1;33m\u001b[0m\u001b[0m\n\u001b[0m\u001b[0;32m      8\u001b[0m             \u001b[0mtime\u001b[0m\u001b[1;33m.\u001b[0m\u001b[0msleep\u001b[0m\u001b[1;33m(\u001b[0m\u001b[1;36m0.1\u001b[0m\u001b[1;33m)\u001b[0m\u001b[1;33m\u001b[0m\u001b[1;33m\u001b[0m\u001b[0m\n\u001b[0;32m      9\u001b[0m \u001b[0mmain\u001b[0m\u001b[1;33m(\u001b[0m\u001b[1;33m)\u001b[0m\u001b[1;33m\u001b[0m\u001b[1;33m\u001b[0m\u001b[0m\n",
      "\u001b[1;32m<ipython-input-125-2881b1b934eb>\u001b[0m in \u001b[0;36mjump\u001b[1;34m()\u001b[0m\n\u001b[0;32m      2\u001b[0m \u001b[1;33m\u001b[0m\u001b[0m\n\u001b[0;32m      3\u001b[0m \u001b[1;32mdef\u001b[0m \u001b[0mjump\u001b[0m\u001b[1;33m(\u001b[0m\u001b[1;33m)\u001b[0m\u001b[1;33m:\u001b[0m\u001b[1;33m\u001b[0m\u001b[1;33m\u001b[0m\u001b[0m\n\u001b[1;32m----> 4\u001b[1;33m     \u001b[0mpyautogui\u001b[0m\u001b[1;33m.\u001b[0m\u001b[0mkeyDown\u001b[0m\u001b[1;33m(\u001b[0m\u001b[1;34m'space'\u001b[0m\u001b[1;33m)\u001b[0m\u001b[1;33m\u001b[0m\u001b[1;33m\u001b[0m\u001b[0m\n\u001b[0m\u001b[0;32m      5\u001b[0m     \u001b[0mprint\u001b[0m\u001b[1;33m(\u001b[0m\u001b[1;34m\"Jump\"\u001b[0m\u001b[1;33m)\u001b[0m\u001b[1;33m\u001b[0m\u001b[1;33m\u001b[0m\u001b[0m\n\u001b[0;32m      6\u001b[0m     \u001b[0mpyautogui\u001b[0m\u001b[1;33m.\u001b[0m\u001b[0mkeyUp\u001b[0m\u001b[1;33m(\u001b[0m\u001b[1;34m'space'\u001b[0m\u001b[1;33m)\u001b[0m\u001b[1;33m\u001b[0m\u001b[1;33m\u001b[0m\u001b[0m\n",
      "\u001b[1;32mC:\\Anaconda\\lib\\site-packages\\pyautogui\\__init__.py\u001b[0m in \u001b[0;36mkeyDown\u001b[1;34m(key, pause, logScreenshot, _pause)\u001b[0m\n\u001b[0;32m   1123\u001b[0m     \u001b[0mplatformModule\u001b[0m\u001b[1;33m.\u001b[0m\u001b[0m_keyDown\u001b[0m\u001b[1;33m(\u001b[0m\u001b[0mkey\u001b[0m\u001b[1;33m)\u001b[0m\u001b[1;33m\u001b[0m\u001b[1;33m\u001b[0m\u001b[0m\n\u001b[0;32m   1124\u001b[0m \u001b[1;33m\u001b[0m\u001b[0m\n\u001b[1;32m-> 1125\u001b[1;33m     \u001b[0m_autoPause\u001b[0m\u001b[1;33m(\u001b[0m\u001b[0mpause\u001b[0m\u001b[1;33m,\u001b[0m \u001b[0m_pause\u001b[0m\u001b[1;33m)\u001b[0m\u001b[1;33m\u001b[0m\u001b[1;33m\u001b[0m\u001b[0m\n\u001b[0m\u001b[0;32m   1126\u001b[0m \u001b[1;33m\u001b[0m\u001b[0m\n\u001b[0;32m   1127\u001b[0m \u001b[1;32mdef\u001b[0m \u001b[0mkeyUp\u001b[0m\u001b[1;33m(\u001b[0m\u001b[0mkey\u001b[0m\u001b[1;33m,\u001b[0m \u001b[0mpause\u001b[0m\u001b[1;33m=\u001b[0m\u001b[1;32mNone\u001b[0m\u001b[1;33m,\u001b[0m \u001b[0mlogScreenshot\u001b[0m\u001b[1;33m=\u001b[0m\u001b[1;32mNone\u001b[0m\u001b[1;33m,\u001b[0m \u001b[0m_pause\u001b[0m\u001b[1;33m=\u001b[0m\u001b[1;32mTrue\u001b[0m\u001b[1;33m)\u001b[0m\u001b[1;33m:\u001b[0m\u001b[1;33m\u001b[0m\u001b[1;33m\u001b[0m\u001b[0m\n",
      "\u001b[1;32mC:\\Anaconda\\lib\\site-packages\\pyautogui\\__init__.py\u001b[0m in \u001b[0;36m_autoPause\u001b[1;34m(pause, _pause)\u001b[0m\n\u001b[0;32m    240\u001b[0m     \u001b[1;32melif\u001b[0m \u001b[0m_pause\u001b[0m\u001b[1;33m:\u001b[0m\u001b[1;33m\u001b[0m\u001b[1;33m\u001b[0m\u001b[0m\n\u001b[0;32m    241\u001b[0m         \u001b[1;32massert\u001b[0m \u001b[0misinstance\u001b[0m\u001b[1;33m(\u001b[0m\u001b[0mPAUSE\u001b[0m\u001b[1;33m,\u001b[0m \u001b[0mint\u001b[0m\u001b[1;33m)\u001b[0m \u001b[1;32mor\u001b[0m \u001b[0misinstance\u001b[0m\u001b[1;33m(\u001b[0m\u001b[0mPAUSE\u001b[0m\u001b[1;33m,\u001b[0m \u001b[0mfloat\u001b[0m\u001b[1;33m)\u001b[0m\u001b[1;33m\u001b[0m\u001b[1;33m\u001b[0m\u001b[0m\n\u001b[1;32m--> 242\u001b[1;33m         \u001b[0mtime\u001b[0m\u001b[1;33m.\u001b[0m\u001b[0msleep\u001b[0m\u001b[1;33m(\u001b[0m\u001b[0mPAUSE\u001b[0m\u001b[1;33m)\u001b[0m\u001b[1;33m\u001b[0m\u001b[1;33m\u001b[0m\u001b[0m\n\u001b[0m\u001b[0;32m    243\u001b[0m \u001b[1;33m\u001b[0m\u001b[0m\n\u001b[0;32m    244\u001b[0m \u001b[1;33m\u001b[0m\u001b[0m\n",
      "\u001b[1;31mKeyboardInterrupt\u001b[0m: "
     ]
    }
   ],
   "source": [
    "#Function restarts the game and dino jumps whenever there is an obstacle infront of it\n",
    "\n",
    "def main():\n",
    "    restartGame()\n",
    "    while True:\n",
    "        if(imageGrab()!=2047):  #2047 is the sum when there is no obstacle in front of dino\n",
    "            jump()\n",
    "            time.sleep(0.1)\n",
    "main()"
   ]
  }
 ],
 "metadata": {
  "kernelspec": {
   "display_name": "Python 3",
   "language": "python",
   "name": "python3"
  },
  "language_info": {
   "codemirror_mode": {
    "name": "ipython",
    "version": 3
   },
   "file_extension": ".py",
   "mimetype": "text/x-python",
   "name": "python",
   "nbconvert_exporter": "python",
   "pygments_lexer": "ipython3",
   "version": "3.7.3"
  }
 },
 "nbformat": 4,
 "nbformat_minor": 2
}
